{
 "cells": [
  {
   "cell_type": "markdown",
   "metadata": {},
   "source": [
    "### Importing Modules (p 544)"
   ]
  },
  {
   "cell_type": "code",
   "execution_count": 1,
   "metadata": {},
   "outputs": [],
   "source": [
    "import pymc3 as mc\n",
    "import numpy as np\n",
    "import pandas as pd\n",
    "import matplotlib.pyplot as plt\n",
    "from scipy import stats\n",
    "import statsmodels.api as sm\n",
    "import statsmodels.formula as smf\n",
    "import seaborn as sns\n",
    "\n",
    "%matplotlib inline"
   ]
  },
  {
   "cell_type": "markdown",
   "metadata": {},
   "source": [
    "### Introduction to Bayesian Statiscis (p 545)"
   ]
  },
  {
   "cell_type": "markdown",
   "metadata": {},
   "source": [
    "### Model Definition (p 548)"
   ]
  },
  {
   "cell_type": "code",
   "execution_count": 2,
   "metadata": {},
   "outputs": [],
   "source": [
    "# define the fixed model parameters\n",
    "mu, sigma = 4.0, 2.0\n",
    "\n",
    "# create an instance of mc.Model to represent the model\n",
    "model = mc.Model()"
   ]
  },
  {
   "cell_type": "code",
   "execution_count": 3,
   "metadata": {},
   "outputs": [],
   "source": [
    "# attach random variables to the model\n",
    "with model:\n",
    "    mc.Normal('X', mu, tau=1/sigma**2)"
   ]
  },
  {
   "cell_type": "code",
   "execution_count": 4,
   "metadata": {},
   "outputs": [
    {
     "data": {
      "text/plain": [
       "[X]"
      ]
     },
     "execution_count": 4,
     "metadata": {},
     "output_type": "execute_result"
    }
   ],
   "source": [
    "# inspect which random variables exist in a model\n",
    "model.vars"
   ]
  },
  {
   "cell_type": "code",
   "execution_count": 5,
   "metadata": {},
   "outputs": [
    {
     "name": "stderr",
     "output_type": "stream",
     "text": [
      "Multiprocess sampling (4 chains in 4 jobs)\n",
      "Metropolis: [X]\n",
      "Sampling 4 chains, 0 divergences: 100%|██████████| 42000/42000 [00:04<00:00, 8812.25draws/s]\n",
      "The number of effective samples is smaller than 25% for some parameters.\n"
     ]
    }
   ],
   "source": [
    "# provide a starting point\n",
    "start = dict(X=2)\n",
    "\n",
    "with model:\n",
    "    # pass a step class instance that implements an MCMC step\n",
    "    step = mc.Metropolis()\n",
    "    # sample from the random variables in the model\n",
    "    trace = mc.sample(10000, start=start, step=step)"
   ]
  },
  {
   "cell_type": "code",
   "execution_count": 6,
   "metadata": {},
   "outputs": [],
   "source": [
    "# access the samples\n",
    "X = trace.get_values(\"X\")"
   ]
  },
  {
   "cell_type": "code",
   "execution_count": 7,
   "metadata": {},
   "outputs": [
    {
     "data": {
      "image/png": "[encoded data removed]",
      "text/plain": [
       "<Figure size 576x216 with 1 Axes>"
      ]
     },
     "metadata": {
      "needs_background": "light"
     },
     "output_type": "display_data"
    }
   ],
   "source": [
    "# compare PDF of the normal distributin and the sampled random variable\n",
    "x = np.linspace(-4, 12, 1000)\n",
    "y = stats.norm(mu, sigma).pdf(x)\n",
    "fig, ax = plt.subplots(figsize=(8, 3))\n",
    "ax.plot(x, y, 'r', lw=2)\n",
    "sns.distplot(X, ax=ax)\n",
    "ax.set_xlim(-4, 12)\n",
    "ax.set_xlabel('x')\n",
    "ax.set_ylabel(\"Probability distribution\");"
   ]
  },
  {
   "cell_type": "code",
   "execution_count": 8,
   "metadata": {},
   "outputs": [],
   "source": [
    "# create dependent random variable X\n",
    "model = mc.Model()\n",
    "with model:\n",
    "    mean = mc.Normal('mean', 3.0)\n",
    "    sigma = mc.HalfNormal('sigma', sd=1.0)\n",
    "    X = mc.Normal('X', mean, sd=sigma)"
   ]
  },
  {
   "cell_type": "code",
   "execution_count": 9,
   "metadata": {},
   "outputs": [
    {
     "data": {
      "text/plain": [
       "[mean, sigma_log__, X]"
      ]
     },
     "execution_count": 9,
     "metadata": {},
     "output_type": "execute_result"
    }
   ],
   "source": [
    "# inspect which random variables of a model\n",
    "model.vars"
   ]
  },
  {
   "cell_type": "code",
   "execution_count": 10,
   "metadata": {},
   "outputs": [
    {
     "name": "stderr",
     "output_type": "stream",
     "text": [
      "logp = -2.1562, ||grad|| = 1.6366: 100%|██████████| 8/8 [00:00<00:00, 2531.07it/s]\n"
     ]
    },
    {
     "data": {
      "text/plain": [
       "{'mean': array(3.),\n",
       " 'sigma_log__': array(-674.07720733),\n",
       " 'X': array(3.),\n",
       " 'sigma': array(1.78644019e-293)}"
      ]
     },
     "execution_count": 10,
     "metadata": {},
     "output_type": "execute_result"
    }
   ],
   "source": [
    "# find the point in the parameter space that corresponds\n",
    "# to the maximum of the posterior distribution\n",
    "with model:\n",
    "    start = mc.find_MAP()\n",
    "start"
   ]
  },
  {
   "cell_type": "code",
   "execution_count": 11,
   "metadata": {},
   "outputs": [
    {
     "name": "stderr",
     "output_type": "stream",
     "text": [
      "Multiprocess sampling (4 chains in 4 jobs)\n",
      "CompoundStep\n",
      ">Metropolis: [X]\n",
      ">Metropolis: [sigma]\n",
      ">Metropolis: [mean]\n",
      "Sampling 4 chains, 0 divergences: 100%|██████████| 402000/402000 [01:06<00:00, 6073.80draws/s]\n",
      "/Users/geeyeol/.pyenv/versions/3.7.1/envs/python3-staging/lib/python3.7/site-packages/xarray/core/nputils.py:223: RuntimeWarning: All-NaN slice encountered\n",
      "  result = getattr(npmodule, name)(values, axis=axis, **kwargs)\n"
     ]
    }
   ],
   "source": [
    "# sample from the random variables in the model\n",
    "with model:\n",
    "    step = mc.Metropolis()\n",
    "    trace = mc.sample(100000, start=start, step=step)"
   ]
  },
  {
   "cell_type": "code",
   "execution_count": 12,
   "metadata": {},
   "outputs": [
    {
     "data": {
      "text/plain": [
       "1.7864401850541627e-293"
      ]
     },
     "execution_count": 12,
     "metadata": {},
     "output_type": "execute_result"
    }
   ],
   "source": [
    "# obtain the sample trace for the sigma variable\n",
    "trace.get_values('sigma').mean()"
   ]
  },
  {
   "cell_type": "code",
   "execution_count": 13,
   "metadata": {},
   "outputs": [
    {
     "data": {
      "text/plain": [
       "(3.0, 0.0)"
      ]
     },
     "execution_count": 13,
     "metadata": {},
     "output_type": "execute_result"
    }
   ],
   "source": [
    "# obtain the samples of X\n",
    "X = trace.get_values('X')\n",
    "\n",
    "# compute statistics\n",
    "X.mean(), trace.get_values('X').std()"
   ]
  },
  {
   "cell_type": "markdown",
   "metadata": {},
   "source": [
    "#### Sampling Posterior Distributions (p 553)"
   ]
  },
  {
   "cell_type": "markdown",
   "metadata": {},
   "source": [
    "#### Linear Regression (p 558)"
   ]
  },
  {
   "cell_type": "markdown",
   "metadata": {},
   "source": [
    "### Summary (p 571)"
   ]
  }
 ],
 "metadata": {
  "kernelspec": {
   "display_name": "Python 3",
   "language": "python",
   "name": "python3"
  },
  "language_info": {
   "codemirror_mode": {
    "name": "ipython",
    "version": 3
   },
   "file_extension": ".py",
   "mimetype": "text/x-python",
   "name": "python",
   "nbconvert_exporter": "python",
   "pygments_lexer": "ipython3",
   "version": "3.7.1"
  },
  "toc": {
   "base_numbering": 1,
   "nav_menu": {},
   "number_sections": true,
   "sideBar": true,
   "skip_h1_title": false,
   "title_cell": "Table of Contents",
   "title_sidebar": "Contents",
   "toc_cell": false,
   "toc_position": {},
   "toc_section_display": true,
   "toc_window_display": false
  }
 },
 "nbformat": 4,
 "nbformat_minor": 2
}
