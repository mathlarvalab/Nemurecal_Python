{
 "cells": [
  {
   "cell_type": "markdown",
   "metadata": {},
   "source": [
    "### Importing Modules (p 544)"
   ]
  },
  {
   "cell_type": "code",
   "execution_count": 1,
   "metadata": {},
   "outputs": [],
   "source": [
    "import pymc3 as mc\n",
    "import numpy as np\n",
    "import pandas as pd\n",
    "import matplotlib.pyplot as plt\n",
    "from scipy import stats\n",
    "import statsmodels.api as sm\n",
    "import statsmodels.formula as smf\n",
    "import seaborn as sns\n",
    "\n",
    "%matplotlib inline"
   ]
  },
  {
   "cell_type": "markdown",
   "metadata": {},
   "source": [
    "### Introduction to Bayesian Statiscis (p 545)"
   ]
  },
  {
   "cell_type": "markdown",
   "metadata": {},
   "source": [
    "### Model Definition (p 548)"
   ]
  },
  {
   "cell_type": "code",
   "execution_count": 2,
   "metadata": {},
   "outputs": [],
   "source": [
    "# define the fixed model parameters\n",
    "mu, sigma = 4.0, 2.0\n",
    "\n",
    "# create an instance of mc.Model to represent the model\n",
    "model = mc.Model()"
   ]
  },
  {
   "cell_type": "code",
   "execution_count": 3,
   "metadata": {},
   "outputs": [],
   "source": [
    "# attach random variables to the model\n",
    "with model:\n",
    "    mc.Normal('X', mu, tau=1/sigma**2)"
   ]
  },
  {
   "cell_type": "code",
   "execution_count": 4,
   "metadata": {},
   "outputs": [
    {
     "data": {
      "text/plain": [
       "[X]"
      ]
     },
     "execution_count": 4,
     "metadata": {},
     "output_type": "execute_result"
    }
   ],
   "source": [
    "# inspect which random variables exist in a model\n",
    "model.vars"
   ]
  },
  {
   "cell_type": "code",
   "execution_count": 5,
   "metadata": {},
   "outputs": [
    {
     "name": "stderr",
     "output_type": "stream",
     "text": [
      "Multiprocess sampling (4 chains in 4 jobs)\n",
      "Metropolis: [X]\n",
      "Sampling 4 chains, 0 divergences: 100%|██████████| 42000/42000 [00:04<00:00, 9370.31draws/s] \n",
      "The number of effective samples is smaller than 25% for some parameters.\n"
     ]
    }
   ],
   "source": [
    "# provide a starting point\n",
    "start = dict(X=2)\n",
    "\n",
    "with model:\n",
    "    # pass a step class instance that implements an MCMC step\n",
    "    step = mc.Metropolis()\n",
    "    # sample from the random variables in the model\n",
    "    trace = mc.sample(10000, start=start, step=step)"
   ]
  },
  {
   "cell_type": "code",
   "execution_count": 6,
   "metadata": {},
   "outputs": [],
   "source": [
    "# access the samples\n",
    "X = trace.get_values(\"X\")"
   ]
  },
  {
   "cell_type": "code",
   "execution_count": 7,
   "metadata": {},
   "outputs": [
    {
     "data": {
      "image/png": "[encoded data removed]",
      "text/plain": [
       "<Figure size 576x216 with 1 Axes>"
      ]
     },
     "metadata": {
      "needs_background": "light"
     },
     "output_type": "display_data"
    }
   ],
   "source": [
    "# compare PDF of the normal distributin and the sampled random variable\n",
    "x = np.linspace(-4, 12, 1000)\n",
    "y = stats.norm(mu, sigma).pdf(x)\n",
    "fig, ax = plt.subplots(figsize=(8, 3))\n",
    "ax.plot(x, y, 'r', lw=2)\n",
    "sns.distplot(X, ax=ax)\n",
    "ax.set_xlim(-4, 12)\n",
    "ax.set_xlabel('x')\n",
    "ax.set_ylabel(\"Probability distribution\");"
   ]
  },
  {
   "cell_type": "code",
   "execution_count": 8,
   "metadata": {},
   "outputs": [],
   "source": [
    "# create dependent random variable X\n",
    "model = mc.Model()\n",
    "with model:\n",
    "    mean = mc.Normal('mean', 3.0)\n",
    "    sigma = mc.HalfNormal('sigma', sd=1.0)\n",
    "    X = mc.Normal('X', mean, sd=sigma)"
   ]
  },
  {
   "cell_type": "code",
   "execution_count": 9,
   "metadata": {},
   "outputs": [
    {
     "data": {
      "text/plain": [
       "[mean, sigma_log__, X]"
      ]
     },
     "execution_count": 9,
     "metadata": {},
     "output_type": "execute_result"
    }
   ],
   "source": [
    "# inspect which random variables of a model\n",
    "model.vars"
   ]
  },
  {
   "cell_type": "code",
   "execution_count": 10,
   "metadata": {},
   "outputs": [
    {
     "name": "stderr",
     "output_type": "stream",
     "text": [
      "logp = -2.1562, ||grad|| = 1.6366: 100%|██████████| 8/8 [00:00<00:00, 2234.73it/s]\n"
     ]
    },
    {
     "data": {
      "text/plain": [
       "{'mean': array(3.),\n",
       " 'sigma_log__': array(-674.07720733),\n",
       " 'X': array(3.),\n",
       " 'sigma': array(1.78644019e-293)}"
      ]
     },
     "execution_count": 10,
     "metadata": {},
     "output_type": "execute_result"
    }
   ],
   "source": [
    "# find the point in the parameter space that corresponds\n",
    "# to the maximum of the posterior distribution\n",
    "with model:\n",
    "    start = mc.find_MAP()\n",
    "start"
   ]
  },
  {
   "cell_type": "code",
   "execution_count": 11,
   "metadata": {},
   "outputs": [
    {
     "name": "stderr",
     "output_type": "stream",
     "text": [
      "Multiprocess sampling (4 chains in 4 jobs)\n",
      "CompoundStep\n",
      ">Metropolis: [X]\n",
      ">Metropolis: [sigma]\n",
      ">Metropolis: [mean]\n",
      "Sampling 4 chains, 0 divergences: 100%|██████████| 402000/402000 [01:05<00:00, 6108.90draws/s]\n",
      "/Users/geeyeol/.pyenv/versions/3.7.1/envs/python3-staging/lib/python3.7/site-packages/xarray/core/nputils.py:223: RuntimeWarning: All-NaN slice encountered\n",
      "  result = getattr(npmodule, name)(values, axis=axis, **kwargs)\n"
     ]
    }
   ],
   "source": [
    "# sample from the random variables in the model\n",
    "with model:\n",
    "    step = mc.Metropolis()\n",
    "    trace = mc.sample(100000, start=start, step=step)"
   ]
  },
  {
   "cell_type": "code",
   "execution_count": 12,
   "metadata": {},
   "outputs": [
    {
     "data": {
      "text/plain": [
       "1.7864401850541627e-293"
      ]
     },
     "execution_count": 12,
     "metadata": {},
     "output_type": "execute_result"
    }
   ],
   "source": [
    "# obtain the sample trace for the sigma variable\n",
    "trace.get_values('sigma').mean()"
   ]
  },
  {
   "cell_type": "code",
   "execution_count": 13,
   "metadata": {},
   "outputs": [
    {
     "data": {
      "text/plain": [
       "(3.0, 0.0)"
      ]
     },
     "execution_count": 13,
     "metadata": {},
     "output_type": "execute_result"
    }
   ],
   "source": [
    "# obtain the samples of X\n",
    "X = trace.get_values('X')\n",
    "\n",
    "# compute statistics\n",
    "X.mean(), trace.get_values('X').std()"
   ]
  },
  {
   "cell_type": "markdown",
   "metadata": {},
   "source": [
    "#### Sampling Posterior Distributions (p 553)"
   ]
  },
  {
   "cell_type": "code",
   "execution_count": 14,
   "metadata": {},
   "outputs": [],
   "source": [
    "# simulate the observations for X by drawing samples from\n",
    "# a normally distributed random variable with u=2.5, s=1.5\n",
    "mu, s = 2.5, 1.5\n",
    "data = stats.norm(mu, s).rvs(100)"
   ]
  },
  {
   "cell_type": "code",
   "execution_count": 15,
   "metadata": {},
   "outputs": [],
   "source": [
    "# feed data into the model\n",
    "with mc.Model() as model:\n",
    "    \n",
    "    mean = mc.Normal('mean', 4.0, 1.0)\n",
    "    sigma = mc.HalfNormal('sigma', 3.0 * np.sqrt(np.pi/2))\n",
    "    X = mc.Normal('X', mean, 1/sigma**2, observed=data)"
   ]
  },
  {
   "cell_type": "code",
   "execution_count": 16,
   "metadata": {},
   "outputs": [
    {
     "data": {
      "text/plain": [
       "[mean, sigma_log__]"
      ]
     },
     "execution_count": 16,
     "metadata": {},
     "output_type": "execute_result"
    }
   ],
   "source": [
    "# inspect the model to check whether X is still a random variable\n",
    "model.vars"
   ]
  },
  {
   "cell_type": "code",
   "execution_count": 17,
   "metadata": {},
   "outputs": [
    {
     "name": "stderr",
     "output_type": "stream",
     "text": [
      "logp = -191.22, ||grad|| = 69.199: 100%|██████████| 18/18 [00:00<00:00, 2254.80it/s]  \n",
      "Multiprocess sampling (4 chains in 4 jobs)\n",
      "CompoundStep\n",
      ">Metropolis: [sigma]\n",
      ">Metropolis: [mean]\n",
      "Sampling 4 chains, 0 divergences: 100%|██████████| 402000/402000 [00:55<00:00, 7255.12draws/s]\n",
      "The number of effective samples is smaller than 25% for some parameters.\n"
     ]
    }
   ],
   "source": [
    "# sample the posterior distribution\n",
    "with model:\n",
    "    start = mc.find_MAP()\n",
    "    step = mc.Metropolis()\n",
    "    trace = mc.sample(100000, start=start, step=step)"
   ]
  },
  {
   "cell_type": "code",
   "execution_count": 18,
   "metadata": {},
   "outputs": [
    {
     "data": {
      "text/plain": [
       "{'mean': array(2.63246905),\n",
       " 'sigma_log__': array(-0.2094103),\n",
       " 'sigma': array(0.81106239)}"
      ]
     },
     "execution_count": 18,
     "metadata": {},
     "output_type": "execute_result"
    }
   ],
   "source": [
    "# the starting point maximizes the likelihood of the posterior\n",
    "# given the observed data and provides an estimate of the\n",
    "# unknown parameters\n",
    "start"
   ]
  },
  {
   "cell_type": "code",
   "execution_count": 19,
   "metadata": {},
   "outputs": [
    {
     "name": "stdout",
     "output_type": "stream",
     "text": [
      "2.5 2.632177541281455\n",
      "1.5 0.8085908379735686\n"
     ]
    }
   ],
   "source": [
    "# compute estimates of the mean of the two random variables in the\n",
    "# model and compare to the corresopnding true values for the\n",
    "# distributinos that the data points were drawn from\n",
    "print(mu, trace.get_values('mean').mean())\n",
    "print(s, trace.get_values('sigma').mean())"
   ]
  },
  {
   "cell_type": "code",
   "execution_count": 20,
   "metadata": {},
   "outputs": [
    {
     "name": "stderr",
     "output_type": "stream",
     "text": [
      "/Users/geeyeol/.pyenv/versions/3.7.1/envs/python3-staging/lib/python3.7/site-packages/pymc3/plots/__init__.py:21: UserWarning: Keyword argument `varnames` renamed to `var_names`, and will be removed in pymc3 3.8\n",
      "  warnings.warn('Keyword argument `{old}` renamed to `{new}`, and will be removed in pymc3 3.8'.format(old=old, new=new))\n"
     ]
    },
    {
     "data": {
      "image/png": "[encoded data removed]",
      "text/plain": [
       "<Figure size 432x417.6 with 1 Axes>"
      ]
     },
     "metadata": {
      "needs_background": "light"
     },
     "output_type": "display_data"
    }
   ],
   "source": [
    "# visualize the mean and credibility intervals for each random variable\n",
    "mc.forestplot(trace, varnames=['mean', 'sigma']);"
   ]
  },
  {
   "cell_type": "code",
   "execution_count": 21,
   "metadata": {},
   "outputs": [
    {
     "name": "stderr",
     "output_type": "stream",
     "text": [
      "/Users/geeyeol/.pyenv/versions/3.7.1/envs/python3-staging/lib/python3.7/site-packages/pymc3/stats/__init__.py:21: UserWarning: Keyword argument `varnames` renamed to `var_names`, and will be removed in pymc3 3.9\n",
      "  \"pymc3 3.9\".format(old=old, new=new)\n"
     ]
    },
    {
     "data": {
      "text/html": [
       "<div>\n",
       "<style scoped>\n",
       "    .dataframe tbody tr th:only-of-type {\n",
       "        vertical-align: middle;\n",
       "    }\n",
       "\n",
       "    .dataframe tbody tr th {\n",
       "        vertical-align: top;\n",
       "    }\n",
       "\n",
       "    .dataframe thead th {\n",
       "        text-align: right;\n",
       "    }\n",
       "</style>\n",
       "<table border=\"1\" class=\"dataframe\">\n",
       "  <thead>\n",
       "    <tr style=\"text-align: right;\">\n",
       "      <th></th>\n",
       "      <th>mean</th>\n",
       "      <th>sd</th>\n",
       "      <th>hpd_3%</th>\n",
       "      <th>hpd_97%</th>\n",
       "      <th>mcse_mean</th>\n",
       "      <th>mcse_sd</th>\n",
       "      <th>ess_mean</th>\n",
       "      <th>ess_sd</th>\n",
       "      <th>ess_bulk</th>\n",
       "      <th>ess_tail</th>\n",
       "      <th>r_hat</th>\n",
       "    </tr>\n",
       "  </thead>\n",
       "  <tbody>\n",
       "    <tr>\n",
       "      <th>mean</th>\n",
       "      <td>2.632</td>\n",
       "      <td>0.153</td>\n",
       "      <td>2.349</td>\n",
       "      <td>2.922</td>\n",
       "      <td>0.001</td>\n",
       "      <td>0.0</td>\n",
       "      <td>62677.0</td>\n",
       "      <td>62677.0</td>\n",
       "      <td>62576.0</td>\n",
       "      <td>63795.0</td>\n",
       "      <td>1.0</td>\n",
       "    </tr>\n",
       "    <tr>\n",
       "      <th>sigma</th>\n",
       "      <td>0.809</td>\n",
       "      <td>0.029</td>\n",
       "      <td>0.756</td>\n",
       "      <td>0.863</td>\n",
       "      <td>0.000</td>\n",
       "      <td>0.0</td>\n",
       "      <td>42706.0</td>\n",
       "      <td>42706.0</td>\n",
       "      <td>42760.0</td>\n",
       "      <td>44059.0</td>\n",
       "      <td>1.0</td>\n",
       "    </tr>\n",
       "  </tbody>\n",
       "</table>\n",
       "</div>"
      ],
      "text/plain": [
       "        mean     sd  hpd_3%  hpd_97%  mcse_mean  mcse_sd  ess_mean   ess_sd  \\\n",
       "mean   2.632  0.153   2.349    2.922      0.001      0.0   62677.0  62677.0   \n",
       "sigma  0.809  0.029   0.756    0.863      0.000      0.0   42706.0  42706.0   \n",
       "\n",
       "       ess_bulk  ess_tail  r_hat  \n",
       "mean    62576.0   63795.0    1.0  \n",
       "sigma   42760.0   44059.0    1.0  "
      ]
     },
     "execution_count": 21,
     "metadata": {},
     "output_type": "execute_result"
    }
   ],
   "source": [
    "# print the mean and credibility intervals for each random variable\n",
    "mc.summary(trace, varnames=['mean', 'sigma'])"
   ]
  },
  {
   "cell_type": "markdown",
   "metadata": {},
   "source": [
    "#### Linear Regression (p 558)"
   ]
  },
  {
   "cell_type": "code",
   "execution_count": 22,
   "metadata": {},
   "outputs": [],
   "source": [
    "# load data\n",
    "dataset = sm.datasets.get_rdataset(\"Davis\", \"carData\")"
   ]
  },
  {
   "cell_type": "code",
   "execution_count": 23,
   "metadata": {},
   "outputs": [
    {
     "data": {
      "text/html": [
       "<div>\n",
       "<style scoped>\n",
       "    .dataframe tbody tr th:only-of-type {\n",
       "        vertical-align: middle;\n",
       "    }\n",
       "\n",
       "    .dataframe tbody tr th {\n",
       "        vertical-align: top;\n",
       "    }\n",
       "\n",
       "    .dataframe thead th {\n",
       "        text-align: right;\n",
       "    }\n",
       "</style>\n",
       "<table border=\"1\" class=\"dataframe\">\n",
       "  <thead>\n",
       "    <tr style=\"text-align: right;\">\n",
       "      <th></th>\n",
       "      <th>sex</th>\n",
       "      <th>weight</th>\n",
       "      <th>height</th>\n",
       "      <th>repwt</th>\n",
       "      <th>repht</th>\n",
       "    </tr>\n",
       "  </thead>\n",
       "  <tbody>\n",
       "    <tr>\n",
       "      <th>0</th>\n",
       "      <td>M</td>\n",
       "      <td>77</td>\n",
       "      <td>182</td>\n",
       "      <td>77.0</td>\n",
       "      <td>180.0</td>\n",
       "    </tr>\n",
       "    <tr>\n",
       "      <th>3</th>\n",
       "      <td>M</td>\n",
       "      <td>68</td>\n",
       "      <td>177</td>\n",
       "      <td>70.0</td>\n",
       "      <td>175.0</td>\n",
       "    </tr>\n",
       "    <tr>\n",
       "      <th>5</th>\n",
       "      <td>M</td>\n",
       "      <td>76</td>\n",
       "      <td>170</td>\n",
       "      <td>76.0</td>\n",
       "      <td>165.0</td>\n",
       "    </tr>\n",
       "  </tbody>\n",
       "</table>\n",
       "</div>"
      ],
      "text/plain": [
       "  sex  weight  height  repwt  repht\n",
       "0   M      77     182   77.0  180.0\n",
       "3   M      68     177   70.0  175.0\n",
       "5   M      76     170   76.0  165.0"
      ]
     },
     "execution_count": 23,
     "metadata": {},
     "output_type": "execute_result"
    }
   ],
   "source": [
    "# select the subset of the datasets\n",
    "data = dataset.data[dataset.data.sex == \"M\"]\n",
    "data = data[data.weight < 110]\n",
    "data.head(3)"
   ]
  },
  {
   "cell_type": "code",
   "execution_count": 24,
   "metadata": {},
   "outputs": [],
   "source": [
    "# create a statistical model\n",
    "# use smf.api.ols instead of smf.ols\n",
    "model = smf.api.ols(\"height ~ weight\", data=data)"
   ]
  },
  {
   "cell_type": "code",
   "execution_count": 25,
   "metadata": {},
   "outputs": [],
   "source": [
    "# fit the model\n",
    "result = model.fit()"
   ]
  },
  {
   "cell_type": "code",
   "execution_count": 26,
   "metadata": {},
   "outputs": [
    {
     "data": {
      "image/png": "[encoded data removed]",
      "text/plain": [
       "<Figure size 576x216 with 1 Axes>"
      ]
     },
     "metadata": {
      "needs_background": "light"
     },
     "output_type": "display_data"
    }
   ],
   "source": [
    "x = np.linspace(50, 110, 25)\n",
    "y = result.predict({\"weight\": x})\n",
    "fig, ax = plt.subplots(1, 1, figsize=(8, 3))\n",
    "ax.plot(data.weight, data.height, 'o')\n",
    "ax.plot(x, y , color='blue')\n",
    "ax.set_xlabel('weight')\n",
    "ax.set_ylabel('height');"
   ]
  },
  {
   "cell_type": "code",
   "execution_count": 27,
   "metadata": {},
   "outputs": [],
   "source": [
    "with mc.Model() as model:\n",
    "    \n",
    "    # create random variables for the stochastic components of the model\n",
    "    sigma = mc.Uniform('sigma', 0, 10)\n",
    "    intercept = mc.Normal('intercept', 125, sd=30)\n",
    "    beta = mc.Normal('beta', 0, sd=5)\n",
    "    \n",
    "    # create a deterministic variable that are functions of the stochastic\n",
    "    # variables but with observed ata attached\n",
    "    height_mu = intercept + beta * data.weight\n",
    "    mc.Normal('height', mu=height_mu, sd=sigma, observed=data.height)\n",
    "    predict_height = mc.Normal('predict_height', mu=intercept + beta * x, sd=sigma, shape=len(x))"
   ]
  },
  {
   "cell_type": "code",
   "execution_count": 28,
   "metadata": {},
   "outputs": [
    {
     "data": {
      "text/plain": [
       "[sigma_interval__, intercept, beta, predict_height]"
      ]
     },
     "execution_count": 28,
     "metadata": {},
     "output_type": "execute_result"
    }
   ],
   "source": [
    "# model contains two model parameters, the distribution of the model errors\n",
    "# and the predict_height variable for predicting the heights at specific\n",
    "# values of weight\n",
    "model.vars"
   ]
  },
  {
   "cell_type": "code",
   "execution_count": 29,
   "metadata": {},
   "outputs": [
    {
     "name": "stderr",
     "output_type": "stream",
     "text": [
      "logp = -382.7, ||grad|| = 9.9702: 100%|██████████| 37/37 [00:00<00:00, 2323.54it/s]   \n",
      "Multiprocess sampling (4 chains in 4 jobs)\n",
      "NUTS: [predict_height, beta, intercept, sigma]\n",
      "Sampling 4 chains, 0 divergences: 100%|██████████| 42000/42000 [00:56<00:00, 737.86draws/s]\n",
      "The acceptance probability does not match the target. It is 0.88675885748217, but should be close to 0.8. Try to increase the number of tuning steps.\n",
      "The acceptance probability does not match the target. It is 0.9007428864135738, but should be close to 0.8. Try to increase the number of tuning steps.\n",
      "The acceptance probability does not match the target. It is 0.9053953183869344, but should be close to 0.8. Try to increase the number of tuning steps.\n"
     ]
    }
   ],
   "source": [
    "# find a suitable starting point to sample marginal posterior\n",
    "# distribution for the model\n",
    "with model:\n",
    "    start = mc.find_MAP()\n",
    "    step = mc.NUTS()\n",
    "    trace = mc.sample(10000, step, start=start);"
   ]
  },
  {
   "cell_type": "code",
   "execution_count": 30,
   "metadata": {},
   "outputs": [
    {
     "data": {
      "text/plain": [
       "(152.09329179795787, 0.34327100493624274)"
      ]
     },
     "execution_count": 30,
     "metadata": {},
     "output_type": "execute_result"
    }
   ],
   "source": [
    "# obtain the values of the intercept and coefficient in the linear model\n",
    "intercept = trace.get_values(\"intercept\").mean()\n",
    "beta = trace.get_values(\"beta\").mean()\n",
    "\n",
    "intercept, beta"
   ]
  },
  {
   "cell_type": "code",
   "execution_count": 31,
   "metadata": {},
   "outputs": [
    {
     "data": {
      "text/plain": [
       "Intercept    152.617348\n",
       "weight         0.336477\n",
       "dtype: float64"
      ]
     },
     "execution_count": 31,
     "metadata": {},
     "output_type": "execute_result"
    }
   ],
   "source": [
    "# obtain the corresponding result from the statsmodels analysis\n",
    "result.params"
   ]
  },
  {
   "cell_type": "code",
   "execution_count": 32,
   "metadata": {},
   "outputs": [
    {
     "data": {
      "text/plain": [
       "array([182.90030002])"
      ]
     },
     "execution_count": 32,
     "metadata": {},
     "output_type": "execute_result"
    }
   ],
   "source": [
    "# predict the expected height in the statsmodels approach\n",
    "result.predict({\"weight\": 90}).values"
   ]
  },
  {
   "cell_type": "code",
   "execution_count": 33,
   "metadata": {},
   "outputs": [
    {
     "data": {
      "text/plain": [
       "182.99650039381726"
      ]
     },
     "execution_count": 33,
     "metadata": {},
     "output_type": "execute_result"
    }
   ],
   "source": [
    "# obtain the corresponding result in the Bayesian model by\n",
    "# computing the mean for the distribution of the stochastic variables\n",
    "weight_index = np.where(x == 90)[0][0]\n",
    "trace.get_values(\"predict_height\")[:, weight_index].mean()"
   ]
  },
  {
   "cell_type": "code",
   "execution_count": 34,
   "metadata": {},
   "outputs": [
    {
     "data": {
      "image/png": "[encoded data removed]",
      "text/plain": [
       "<Figure size 576x216 with 1 Axes>"
      ]
     },
     "metadata": {
      "needs_background": "light"
     },
     "output_type": "display_data"
    }
   ],
   "source": [
    "# plot a histogram and the kernel density estimate of the probability\n",
    "# distributin for the weight 90kg\n",
    "fig, ax = plt.subplots(figsize=(8, 3))\n",
    "sns.distplot(trace.get_values(\"predict_height\")[:, weight_index], ax=ax)\n",
    "ax.set_xlim(150, 210)\n",
    "ax.set_xlabel(\"height\")\n",
    "ax.set_ylabel(\"Probability distribution\");"
   ]
  },
  {
   "cell_type": "code",
   "execution_count": 35,
   "metadata": {},
   "outputs": [
    {
     "data": {
      "image/png": "[encoded data removed]",
      "text/plain": [
       "<Figure size 576x216 with 1 Axes>"
      ]
     },
     "metadata": {
      "needs_background": "light"
     },
     "output_type": "display_data"
    }
   ],
   "source": [
    "# visualize the uncertainty in the mean intercept and coefficient that\n",
    "# we an take as estimates of the final linear model parameters\n",
    "fig, ax = plt.subplots(1, 1, figsize=(8, 3))\n",
    "for n in range(500, 2000, 1):\n",
    "    intercept = trace.get_values(\"intercept\")[n]\n",
    "    beta = trace.get_values(\"beta\")[n]\n",
    "    ax.plot(x, intercept + beta * x, color='red', lw=0.25, alpha=0.05)\n",
    "    \n",
    "intercept = trace.get_values(\"intercept\").mean()\n",
    "beta = trace.get_values(\"beta\").mean()\n",
    "ax.plot(x, intercept + beta * x, color='k', label=\"Mean Bayesian prediction\")\n",
    "ax.plot(data.weight, data.height, 'o')\n",
    "ax.plot(x, y, '--', color=\"blue\", label=\"OLS prediction\")\n",
    "ax.set_xlabel(\"weight\")\n",
    "ax.set_ylabel(\"height\")\n",
    "ax.legend(loc=0);"
   ]
  },
  {
   "cell_type": "code",
   "execution_count": 36,
   "metadata": {},
   "outputs": [
    {
     "name": "stderr",
     "output_type": "stream",
     "text": [
      "Multiprocess sampling (4 chains in 4 jobs)\n",
      "NUTS: [sd, weight, Intercept]\n",
      "Sampling 4 chains, 0 divergences: 100%|██████████| 10000/10000 [00:07<00:00, 1317.96draws/s]\n",
      "The acceptance probability does not match the target. It is 0.931880878198038, but should be close to 0.8. Try to increase the number of tuning steps.\n",
      "The acceptance probability does not match the target. It is 0.9278669315868158, but should be close to 0.8. Try to increase the number of tuning steps.\n",
      "The acceptance probability does not match the target. It is 0.8860256949941719, but should be close to 0.8. Try to increase the number of tuning steps.\n",
      "The acceptance probability does not match the target. It is 0.9241679229722698, but should be close to 0.8. Try to increase the number of tuning steps.\n"
     ]
    }
   ],
   "source": [
    "with mc.Model() as model:\n",
    "    # define a generalized linear model and provide data using a Pandas DataFrame\n",
    "    mc.glm.GLM.from_formula('height ~ weight', data)\n",
    "    \n",
    "    # sample from the posterior distributin of the model\n",
    "    step = mc.NUTS()\n",
    "    trace = mc.sample(2000, step)"
   ]
  },
  {
   "cell_type": "code",
   "execution_count": 37,
   "metadata": {},
   "outputs": [],
   "source": [
    "# load the dataset\n",
    "data = dataset.data.copy()\n",
    "data = data[data.weight < 110]\n",
    "\n",
    "# convert the sex column to a binary variable (0, 1)\n",
    "data['sex'] = data['sex'].apply(lambda x: 1 if x == \"F\" else 0)"
   ]
  },
  {
   "cell_type": "code",
   "execution_count": 38,
   "metadata": {},
   "outputs": [],
   "source": [
    "with mc.Model() as model:\n",
    "    \n",
    "    intercept_mu, intercept_sigma = 125, 30\n",
    "    beta_mu, beta_sigma = 0, 5\n",
    "    \n",
    "    # indicate the multilevel structure by specifying shape=2\n",
    "    intercept = mc.Normal('intercept', intercept_mu, sd=intercept_sigma, shape=2)\n",
    "    beta = mc.Normal('beta', beta_mu, sd=beta_sigma, shape=2)\n",
    "    \n",
    "    error = mc.Uniform('error', 0, 10)\n",
    "    \n",
    "    # use an index mask so that each value in data.weight is associated\n",
    "    # with the correct level\n",
    "    sex_idx = data.sex.values\n",
    "    height_mu = intercept[sex_idx] + beta[sex_idx] * data.weight\n",
    "    \n",
    "    mc.Normal('height', mu=height_mu, sd=error, observed=data.height)"
   ]
  },
  {
   "cell_type": "code",
   "execution_count": 39,
   "metadata": {},
   "outputs": [
    {
     "data": {
      "text/plain": [
       "[intercept, beta, error_interval__]"
      ]
     },
     "execution_count": 39,
     "metadata": {},
     "output_type": "execute_result"
    }
   ],
   "source": [
    "# obtain model variables\n",
    "model.vars"
   ]
  },
  {
   "cell_type": "code",
   "execution_count": 40,
   "metadata": {},
   "outputs": [
    {
     "name": "stderr",
     "output_type": "stream",
     "text": [
      "logp = -618.03, ||grad|| = 8.8049: 100%|██████████| 51/51 [00:00<00:00, 2040.15it/s]  \n",
      "Multiprocess sampling (4 chains in 4 jobs)\n",
      "NUTS: [error, beta, intercept]\n",
      "Sampling 4 chains, 0 divergences: 100%|██████████| 22000/22000 [00:26<00:00, 832.42draws/s]\n"
     ]
    }
   ],
   "source": [
    "# collect 5000 samples using NUTS sampler\n",
    "with model:\n",
    "    start = mc.find_MAP()\n",
    "    step = mc.NUTS()\n",
    "    trace = mc.sample(5000, step, start=start)"
   ]
  },
  {
   "cell_type": "code",
   "execution_count": 41,
   "metadata": {},
   "outputs": [],
   "source": [
    "# extract the intercept and the slope for each gender\n",
    "intercept_m, intercept_f = trace.get_values('intercept').mean(axis=0)\n",
    "beta_m, beta_f = trace.get_values('beta').mean(axis=0)"
   ]
  },
  {
   "cell_type": "code",
   "execution_count": 42,
   "metadata": {},
   "outputs": [],
   "source": [
    "# get the intercept and the slope that represent the entire dataset\n",
    "# by averaging over both dimensinos (axis=0, 1)\n",
    "intercept = trace.get_values('intercept').mean()\n",
    "beta = trace.get_values('beta').mean()"
   ]
  },
  {
   "cell_type": "code",
   "execution_count": 43,
   "metadata": {},
   "outputs": [
    {
     "data": {
      "image/png": "[encoded data removed]",
      "text/plain": [
       "<Figure size 576x216 with 1 Axes>"
      ]
     },
     "metadata": {
      "needs_background": "light"
     },
     "output_type": "display_data"
    }
   ],
   "source": [
    "# plot the data as scatter plots and draw the lines corresponding\n",
    "# to the intercetps and slopes and the result from grouping all subjects\n",
    "fig, ax = plt.subplots(1, 1, figsize=(8, 3))\n",
    "mask_m = data.sex == 0\n",
    "mask_f = data.sex == 1\n",
    "\n",
    "ax.plot(data.weight[mask_m], data.height[mask_m], 'o', color=\"steelblue\", label=\"male\", alpha=0.5)\n",
    "ax.plot(data.weight[mask_f], data.height[mask_f], 'o', color=\"green\", label=\"female\", alpha=0.5)\n",
    "\n",
    "x = np.linspace(35, 110, 50)\n",
    "ax.plot(x, intercept_m + x * beta_m, color=\"steelblue\", label=\"model male group\")\n",
    "ax.plot(x, intercept_f + x * beta_f, color=\"green\", label=\"model female group\")\n",
    "ax.plot(x, intercept + x * beta, color=\"black\", label=\"model both groups\")\n",
    "\n",
    "ax.set_xlabel(\"weight\")\n",
    "ax.set_ylabel(\"height\")\n",
    "ax.legend(loc=0);"
   ]
  }
 ],
 "metadata": {
  "kernelspec": {
   "display_name": "Python 3",
   "language": "python",
   "name": "python3"
  },
  "language_info": {
   "codemirror_mode": {
    "name": "ipython",
    "version": 3
   },
   "file_extension": ".py",
   "mimetype": "text/x-python",
   "name": "python",
   "nbconvert_exporter": "python",
   "pygments_lexer": "ipython3",
   "version": "3.7.1"
  },
  "toc": {
   "base_numbering": 1,
   "nav_menu": {},
   "number_sections": true,
   "sideBar": true,
   "skip_h1_title": false,
   "title_cell": "Table of Contents",
   "title_sidebar": "Contents",
   "toc_cell": false,
   "toc_position": {},
   "toc_section_display": true,
   "toc_window_display": false
  }
 },
 "nbformat": 4,
 "nbformat_minor": 2
}
